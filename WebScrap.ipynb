{
  "metadata": {
    "kernelspec": {
      "name": "python",
      "display_name": "Python (Pyodide)",
      "language": "python"
    },
    "language_info": {
      "codemirror_mode": {
        "name": "python",
        "version": 3
      },
      "file_extension": ".py",
      "mimetype": "text/x-python",
      "name": "python",
      "nbconvert_exporter": "python",
      "pygments_lexer": "ipython3",
      "version": "3.8"
    }
  },
  "nbformat_minor": 5,
  "nbformat": 4,
  "cells": [
    {
      "cell_type": "markdown",
      "source": "# Group C - Assignment 1\n# Problem Statememt\n# Create a review scraper for any ecommerce website to fetch real time comments, reviews, ratings, comment tags, customer name using Python",
      "metadata": {},
      "id": "2a757a1d-7d83-41c0-bbae-4760596eda12"
    },
    {
      "cell_type": "markdown",
      "source": "# Declaring Libraries ",
      "metadata": {},
      "id": "8ae1006d-5227-444e-b468-870714c2d146"
    },
    {
      "cell_type": "code",
      "source": "import requests\nfrom bs4 import BeautifulSoup",
      "metadata": {},
      "execution_count": null,
      "outputs": [],
      "id": "846190ad-9d40-488a-be92-6e4ed270951f"
    },
    {
      "cell_type": "markdown",
      "source": "# Declaring Headers\n",
      "metadata": {},
      "id": "da81a5cc-44b7-49d9-b3b8-d19f5ac6707d"
    },
    {
      "cell_type": "code",
      "source": "HEADERS = ({'User-Agent':\n'Mozilla/5.0 (Windows NT 10.0; Win64; x64) \\\nAppleWebKit/537.36 (KHTML, like Gecko) \\\nChrome/90.0.4430.212 Safari/537.36',\n'Accept-Language': 'en-US, en;q=0.5'})",
      "metadata": {},
      "execution_count": null,
      "outputs": [],
      "id": "cd1671f6-506b-429d-b430-42f593285a22"
    },
    {
      "cell_type": "code",
      "source": "def getdata(site_url):\n    res = requests.get(site_url, headers=HEADERS)\n    return res.text\n\n\n    ",
      "metadata": {},
      "execution_count": null,
      "outputs": [],
      "id": "6062d73f-ba31-462b-8049-e4845380f247"
    },
    {
      "cell_type": "markdown",
      "source": "# Declaring Product URL",
      "metadata": {},
      "id": "dc85f113-254c-475a-a907-3f791fe6ae8d"
    },
    {
      "cell_type": "code",
      "source": "site_url=\"https://www.flipkart.com/whirlpool-convertible-4-in-1-cooling-2023-model-1-5-ton-5-star-split-inverter-6th-sense-technology-ac-white/p/itm633a13a71d882?pid=ACNGHHW2PHWHAYKB&lid=LSTACNGHHW2PHWHAYKB7LRDBW&otracker=clp_banner_1_9.bannerX3.BANNER_tv-and-appliances-big-savings-days-sale-store_SMBXQ2MMX2R3&fm=neo%2Fmerchandising&iid=M_f5cac5a9-8a5e-44e6-874b-321bb0eebe12_9.SMBXQ2MMX2R3&ppt=hp&ppn=homepage&ssid=j35oo8zb8w0000001683735212785\"\n\n\n",
      "metadata": {},
      "execution_count": null,
      "outputs": [],
      "id": "4c7dfae0-f5d9-4221-92b2-0ca699492d3d"
    },
    {
      "cell_type": "markdown",
      "source": "# Scraping Data",
      "metadata": {},
      "id": "a6ad260c-b10f-4449-b9ca-68a3edd2a3ec"
    },
    {
      "cell_type": "code",
      "source": "def gethtml(site_url):\n    data = getdata(site_url)\n    soup = BeautifulSoup(data, 'html.parser')\n    return (soup)",
      "metadata": {},
      "execution_count": 47,
      "outputs": [],
      "id": "666c02e7-1778-4e68-b977-54e60a29adbb"
    },
    {
      "cell_type": "code",
      "source": "soup = gethtml(site_url)",
      "metadata": {},
      "execution_count": 48,
      "outputs": [],
      "id": "e4770e7c-2ed2-48c8-b9e6-18645d6e40c9"
    },
    {
      "cell_type": "markdown",
      "source": "# Extracting Customer Names",
      "metadata": {},
      "id": "9c987e16-2f51-4f27-ac09-8ba845aeb676"
    },
    {
      "cell_type": "code",
      "source": "def getCustomerName(soup):\n # find the Html tag\n # with find()\n # and convert into string\n    data_string = \"\"\n    custumer_list = []\n\n    for item in soup.find_all(\"p\", class_=\"_2sc7ZR _2V5EHH\"):\n        data_string = data_string + item.get_text()\n        custumer_list.append(data_string)\n        data_string = \"\"\n    return custumer_list",
      "metadata": {},
      "execution_count": 49,
      "outputs": [],
      "id": "d913ce64-d771-4c23-b40f-8f3cb4dca52d"
    },
    {
      "cell_type": "code",
      "source": "\ncustomer_res = getCustomerName(soup)\nprint(customer_res)\n",
      "metadata": {},
      "execution_count": 50,
      "outputs": [
        {
          "name": "stdout",
          "output_type": "stream",
          "text": "['ashish gaud', 'Sivakanth', 'KISHOR KUMAR  Nagarajan', 'Flipkart Customer', '', 'Sooraj  PT', '', 'M D  HASAN', 'Bakul Mondal', 'Lavi  Bindal']\n"
        }
      ],
      "id": "521d3b65-988c-47ed-9d33-a877247a2582"
    },
    {
      "cell_type": "code",
      "source": "",
      "metadata": {},
      "execution_count": null,
      "outputs": [],
      "id": "bfbcc43b-d810-42e5-99b3-123311411ca5"
    },
    {
      "cell_type": "markdown",
      "source": "# Extracting Product Review",
      "metadata": {},
      "id": "e7ea9eaa-59bd-4347-8753-547f452c7b7b"
    },
    {
      "cell_type": "code",
      "source": "def getCustomerReview(soup):\n    review_string = \"\"\n    review_list = []\n \n    for item in soup.find_all(\"div\", class_=\"t-ZTKy\"):\n        review_string = review_string + item.get_text()\n        review_list.append(review_string)\n        review_string = \"\"\n    return review_list",
      "metadata": {},
      "execution_count": 51,
      "outputs": [],
      "id": "a9f4ec91-070f-4fd4-988e-388394ce7143"
    },
    {
      "cell_type": "code",
      "source": "\ncustomer_rev = getCustomerReview(soup)\nprint(customer_rev)",
      "metadata": {},
      "execution_count": 52,
      "outputs": [
        {
          "name": "stdout",
          "output_type": "stream",
          "text": "['Superb service by Flipkart. Well delivered on time without any damage. Superfast installation on the very next day of delivery. Whirlpool service was also top-notch. No extra wire ,tube or pipe visible on the wall. Remains about AC worth the price in which the features you get. And ofcourse the beautiful design.Happy with the product as of nowREAD MORE', 'Excellent 1.5 ton 5 star 🔯 AC at this price range, very quick cool and silent mode. Highly recommendREAD MORE', 'Excellent product with excellent Flipkart support team 😊 nice experience with buying this in Flipkart interface.READ MORE', 'Using 5 days,.  Good choice for me .. best deal thanks to Flipkart, and installation boys are very good and reasonable. .. totally I iam very happy 😊😊😊..READ MORE', 'Very good 😊, fast delivery, good person ac instalation very good working, whirlpool ac nice cooling, looking good.wow. and price is best. Thanks you Flipkart.READ MORE', 'Super fast installation. Good service. Thank you whirlpool. Thank you flipkart.READ MORE', 'Ac throwing cool air like cooler. If in this normal temp it take around 1 hour to cool than in peak summer season its cool air will be of no useREAD MORE', 'Very NiceREAD MORE', 'ExcellentREAD MORE', 'Everything is good delivery also fast but installation charges are increased by technicianREAD MORE']\n"
        }
      ],
      "id": "9f5fa50b-589b-4256-8634-5eb08c3160c1"
    },
    {
      "cell_type": "markdown",
      "source": "# Extracting Product Rating",
      "metadata": {},
      "id": "3a1a8425-37d0-4ddc-bdeb-f0b224030251"
    },
    {
      "cell_type": "code",
      "source": "\ndef getCustomerRating(soup):\n    rating_string = \"\"\n    rating_list = []\n    \n    for item in soup.find_all(\"div\", class_=\"_3LWZlK _1BLPMq\"):\n        rating_string = rating_string + item.get_text()\n        rating_list.append(rating_string)\n        \n        rating_string = \"\"\n\n\n    return rating_list\n",
      "metadata": {},
      "execution_count": 89,
      "outputs": [],
      "id": "4467b4b0-1c22-405e-ae9e-6f305a17215e"
    },
    {
      "cell_type": "code",
      "source": "customer_rat = getCustomerRating(soup)\nprint(customer_rat)",
      "metadata": {},
      "execution_count": 90,
      "outputs": [
        {
          "name": "stdout",
          "output_type": "stream",
          "text": "[5, '5', '5', '5', '5', '5', '5', '5', '5', '4']\n"
        }
      ],
      "id": "3e923078-1ceb-4e26-af13-04e10257e7ed"
    },
    {
      "cell_type": "code",
      "source": "import pandas as pd",
      "metadata": {},
      "execution_count": 72,
      "outputs": [],
      "id": "dabfc936-7370-484e-bdfa-c90215380f85"
    },
    {
      "cell_type": "code",
      "source": "\nimport numpy as np\n\n",
      "metadata": {},
      "execution_count": 73,
      "outputs": [],
      "id": "3be6b623-312b-4594-bb1e-54a77fcb21bb"
    },
    {
      "cell_type": "markdown",
      "source": "# Printing extracted data",
      "metadata": {},
      "id": "82b643d4-d8ee-4d4a-85e8-633874f0b929"
    },
    {
      "cell_type": "code",
      "source": "\ncustomer_data ={'Name':customer_res, 'review':customer_rev ,'Rating':customer_rat}",
      "metadata": {},
      "execution_count": 91,
      "outputs": [],
      "id": "549f0f35-180a-4d08-94fe-e8f0bb8f7622"
    },
    {
      "cell_type": "code",
      "source": "df = pd.DataFrame(customer_data)",
      "metadata": {},
      "execution_count": 92,
      "outputs": [],
      "id": "3eca4334-d3fb-4df9-83e7-3ed0918773c7"
    },
    {
      "cell_type": "code",
      "source": "df",
      "metadata": {},
      "execution_count": 93,
      "outputs": [
        {
          "execution_count": 93,
          "output_type": "execute_result",
          "data": {
            "text/html": [
              "<div>\n",
              "<style scoped>\n",
              "    .dataframe tbody tr th:only-of-type {\n",
              "        vertical-align: middle;\n",
              "    }\n",
              "\n",
              "    .dataframe tbody tr th {\n",
              "        vertical-align: top;\n",
              "    }\n",
              "\n",
              "    .dataframe thead th {\n",
              "        text-align: right;\n",
              "    }\n",
              "</style>\n",
              "<table border=\"1\" class=\"dataframe\">\n",
              "  <thead>\n",
              "    <tr style=\"text-align: right;\">\n",
              "      <th></th>\n",
              "      <th>Name</th>\n",
              "      <th>review</th>\n",
              "      <th>Rating</th>\n",
              "    </tr>\n",
              "  </thead>\n",
              "  <tbody>\n",
              "    <tr>\n",
              "      <th>0</th>\n",
              "      <td>ashish gaud</td>\n",
              "      <td>Superb service by Flipkart. Well delivered on ...</td>\n",
              "      <td>5</td>\n",
              "    </tr>\n",
              "    <tr>\n",
              "      <th>1</th>\n",
              "      <td>Sivakanth</td>\n",
              "      <td>Excellent 1.5 ton 5 star 🔯 AC at this price ra...</td>\n",
              "      <td>5</td>\n",
              "    </tr>\n",
              "    <tr>\n",
              "      <th>2</th>\n",
              "      <td>KISHOR KUMAR  Nagarajan</td>\n",
              "      <td>Excellent product with excellent Flipkart supp...</td>\n",
              "      <td>5</td>\n",
              "    </tr>\n",
              "    <tr>\n",
              "      <th>3</th>\n",
              "      <td>Flipkart Customer</td>\n",
              "      <td>Using 5 days,.  Good choice for me .. best dea...</td>\n",
              "      <td>5</td>\n",
              "    </tr>\n",
              "    <tr>\n",
              "      <th>4</th>\n",
              "      <td></td>\n",
              "      <td>Very good 😊, fast delivery, good person ac ins...</td>\n",
              "      <td>5</td>\n",
              "    </tr>\n",
              "    <tr>\n",
              "      <th>5</th>\n",
              "      <td>Sooraj  PT</td>\n",
              "      <td>Super fast installation. Good service. Thank y...</td>\n",
              "      <td>5</td>\n",
              "    </tr>\n",
              "    <tr>\n",
              "      <th>6</th>\n",
              "      <td></td>\n",
              "      <td>Ac throwing cool air like cooler. If in this n...</td>\n",
              "      <td>5</td>\n",
              "    </tr>\n",
              "    <tr>\n",
              "      <th>7</th>\n",
              "      <td>M D  HASAN</td>\n",
              "      <td>Very NiceREAD MORE</td>\n",
              "      <td>5</td>\n",
              "    </tr>\n",
              "    <tr>\n",
              "      <th>8</th>\n",
              "      <td>Bakul Mondal</td>\n",
              "      <td>ExcellentREAD MORE</td>\n",
              "      <td>5</td>\n",
              "    </tr>\n",
              "    <tr>\n",
              "      <th>9</th>\n",
              "      <td>Lavi  Bindal</td>\n",
              "      <td>Everything is good delivery also fast but inst...</td>\n",
              "      <td>4</td>\n",
              "    </tr>\n",
              "  </tbody>\n",
              "</table>\n",
              "</div>"
            ],
            "text/plain": [
              "                      Name                                             review  \\\n",
              "0              ashish gaud  Superb service by Flipkart. Well delivered on ...   \n",
              "1                Sivakanth  Excellent 1.5 ton 5 star 🔯 AC at this price ra...   \n",
              "2  KISHOR KUMAR  Nagarajan  Excellent product with excellent Flipkart supp...   \n",
              "3        Flipkart Customer  Using 5 days,.  Good choice for me .. best dea...   \n",
              "4                           Very good 😊, fast delivery, good person ac ins...   \n",
              "5               Sooraj  PT  Super fast installation. Good service. Thank y...   \n",
              "6                           Ac throwing cool air like cooler. If in this n...   \n",
              "7               M D  HASAN                                 Very NiceREAD MORE   \n",
              "8             Bakul Mondal                                 ExcellentREAD MORE   \n",
              "9             Lavi  Bindal  Everything is good delivery also fast but inst...   \n",
              "\n",
              "  Rating  \n",
              "0      5  \n",
              "1      5  \n",
              "2      5  \n",
              "3      5  \n",
              "4      5  \n",
              "5      5  \n",
              "6      5  \n",
              "7      5  \n",
              "8      5  \n",
              "9      4  "
            ]
          },
          "metadata": {}
        }
      ],
      "id": "c2373b89-f6ef-494a-b47a-01486ff67baf"
    },
    {
      "cell_type": "code",
      "source": "",
      "metadata": {},
      "execution_count": null,
      "outputs": [],
      "id": "1a010737-bba8-4daa-9835-42e23b441b15"
    },
    {
      "cell_type": "code",
      "source": "",
      "metadata": {},
      "execution_count": null,
      "outputs": [],
      "id": "64667c6f-8057-4e86-97d1-254d28c42be1"
    },
    {
      "cell_type": "code",
      "source": "",
      "metadata": {},
      "execution_count": null,
      "outputs": [],
      "id": "89247c36-dc49-44a2-b8ad-e1b6a8ebf602"
    }
  ]
}